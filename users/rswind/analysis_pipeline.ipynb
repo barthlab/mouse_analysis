{
 "cells": [
  {
   "cell_type": "markdown",
   "metadata": {},
   "source": [
    "#### Parameters"
   ]
  },
  {
   "cell_type": "code",
   "execution_count": 1,
   "metadata": {},
   "outputs": [],
   "source": [
    "import pandas as pd\n",
    "\n",
    "import loader\n",
    "import analysis_functions"
   ]
  },
  {
   "cell_type": "code",
   "execution_count": 2,
   "metadata": {},
   "outputs": [],
   "source": [
    "csv_directory = ''\n",
    "analysis_directory = ''\n",
    "metadata_file = ''\n",
    "condition_name = 'SAT'\n",
    "acc_col_name = 'acc'\n",
    "default_acc_time = 2 # days\n",
    "time_bin = 240 # minutes\n",
    "\n",
    "# using rolling window\n",
    "freq_window = 300 # milliseconds\n",
    "freq_bin = 100 # milliseconds\n",
    "\n",
    "last_percent = 20\n",
    "min_trials = 0\n",
    "min_water_trials = 0\n",
    "min_blank_trials = 0"
   ]
  },
  {
   "cell_type": "markdown",
   "metadata": {},
   "source": [
    "#### Load Files"
   ]
  },
  {
   "cell_type": "code",
   "execution_count": null,
   "metadata": {},
   "outputs": [],
   "source": [
    "metadata = pd.read_excel(metadata_file)\n",
    "df = loader.make_condition_df(csv_directory, condition_name, metadata, acc_col_name, default_acc_time)"
   ]
  },
  {
   "cell_type": "markdown",
   "metadata": {},
   "source": [
    "#### Lick Frequency Analysys"
   ]
  },
  {
   "cell_type": "code",
   "execution_count": null,
   "metadata": {},
   "outputs": [],
   "source": [
    "data, prev_blank, prev_water = lickfreq_analysis(df, freq_window, freq_bin, time_bin, (not args.noUI))"
   ]
  },
  {
   "cell_type": "markdown",
   "metadata": {},
   "source": [
    "#### Trial Binning"
   ]
  },
  {
   "cell_type": "code",
   "execution_count": null,
   "metadata": {},
   "outputs": [],
   "source": [
    "name = \"one_back\"\n",
    "cond_pos = \"blank\"\n",
    "cond_neg = \"water\"\n",
    "gp = \"animal\"\n",
    "bin_prev_identity(data, key, index)"
   ]
  },
  {
   "cell_type": "markdown",
   "metadata": {},
   "source": [
    "#### Aggregate analysis"
   ]
  },
  {
   "cell_type": "code",
   "execution_count": null,
   "metadata": {},
   "outputs": [],
   "source": [
    "mean_statistics, counts, performance = aggregate_analysis(data, min_trials, min_blank_trials, min_water_trials)"
   ]
  },
  {
   "cell_type": "markdown",
   "metadata": {},
   "source": [
    "#### Output aggregate values to files"
   ]
  },
  {
   "cell_type": "code",
   "execution_count": null,
   "metadata": {},
   "outputs": [],
   "source": [
    "output_dir = f'{analysis_directory}/{condition_name}/stats/{condition_name}'\n",
    "output_prev = f'{analysis_directory}/{condition_name}/prev_stats/{condition_name}'\n",
    "\n",
    "cols = [\"condition\", \"sex\", \"age\", \"strain\", \"animal\", \"stimulus\", \"Time (hr)\", \"Time (ms)\", \"lick\"]\n",
    "mean_statistics.to_csv(f'{output_dir}_lick_frequency.csv', columns=cols, index=False)\n",
    "\n",
    "cols = [\"condition\", \"sex\", \"age\", \"strain\", \"animal\", \"Time (hr)\", \"Time (ms)\", \"trial no\"]\n",
    "counts.to_csv(f'{output_dir}_trial_counts.csv', columns=cols, index=False)\n",
    "\n",
    "cols = [\"condition\", \"sex\", \"age\", \"strain\", \"animal\", \"Time (hr)\", \"Time (ms)\", \"lick\"]\n",
    "performance.to_csv(f'{output_dir}_performance.csv', columns=cols, index=False)"
   ]
  },
  {
   "cell_type": "markdown",
   "metadata": {},
   "source": [
    "Plotting"
   ]
  },
  {
   "cell_type": "markdown",
   "metadata": {},
   "source": [
    "#### Pipeline description"
   ]
  },
  {
   "cell_type": "markdown",
   "metadata": {},
   "source": [
    "__Pipeline:__\n",
    "\n",
    ">```\n",
    ">raw data (csv) ------------|    loader.py                                                     lickfreq_analysis                                            \n",
    ">                            |------------------> formatted data - many animals (dataframe) ---------------------------> trial-level analysis(dataframe)\n",
    ">metadata (excel) ----------|\n",
    ">\n",
    ">                                     aggregate_analysis   |---> trial number counts by timebin and condition (dataframe) ---|\n",
    ">trial-level analysis (dataframe) ------------------------|---> mean lick frequency by timebin (dataframe) -----------------|---> plots\n",
    ">                                                          |---> performance by timebin (dataframe) -------------------------|\n",
    ">```\n",
    "\n",
    "***\n",
    "\n",
    "__Formats__\n",
    "\n",
    "*raw data*\n",
    "\n",
    ">time (ms), poke, lick, condition code, delay, stimulus\n",
    "\n",
    "- time measured from start of file\n",
    "- poke in {0, 1}\n",
    "- lick in {0, 2}\n",
    "- condition code in {3, 4, 5, 7, 9}\n",
    "    - 3 = delay\n",
    "    - 4 = air delivery\n",
    "    - 5 = water delivery\n",
    "    - 7 = after water delivery\n",
    "    - 9 = blank\n",
    "- 200 <= delay <= 800\n",
    "- stimulus in {0, 1}\n",
    "    - stimulus not present in SAT code\n",
    "    - stimulus present and relevant in pseudo code\n",
    "\n",
    "*metadata*\n",
    "\n",
    "- excel\n",
    "- must include 'Animal ID' (3 letter + number animal code)\n",
    "- must include 'acc' (time of acclimation in days)\n",
    "- other example columns: age, sex, strain\n",
    "\n",
    "*formatted data*\n",
    "\n",
    ">timestamp, poke, lick, condition code, delay, trial no, water, stimulus, animal, condition, metadata\n",
    "\n",
    "- metadata can be multiple columns\n",
    "\n",
    "*trial-level analysis*\n",
    "> condition, animal, trial no, puff delta, trial start, timestamp, metadata, stimulus, water, lick, poke, delta, time (hr), time (ms)\n",
    "\n",
    "- puff delta is equivalent to time (ms)\n",
    "    - represents timestamp normalized to air delivery\n",
    "    - puff delta is timedelta and time (ms) is float\n",
    "- trial start represents timebin as timestamp\n",
    "- delta is equivalent to time (hr)\n",
    "    - represents timebin normalized to start of stat\n",
    "    - delta is timedelta and time (hr) is float\n",
    "- metadata can be multiple columns\n",
    "- lick and poke now represent frequencys aggregated based on given window size\n",
    "\n"
   ]
  }
 ],
 "metadata": {
  "kernelspec": {
   "display_name": "behavior",
   "language": "python",
   "name": "python3"
  },
  "language_info": {
   "codemirror_mode": {
    "name": "ipython",
    "version": 3
   },
   "file_extension": ".py",
   "mimetype": "text/x-python",
   "name": "python",
   "nbconvert_exporter": "python",
   "pygments_lexer": "ipython3",
   "version": "3.11.3"
  },
  "orig_nbformat": 4
 },
 "nbformat": 4,
 "nbformat_minor": 2
}
