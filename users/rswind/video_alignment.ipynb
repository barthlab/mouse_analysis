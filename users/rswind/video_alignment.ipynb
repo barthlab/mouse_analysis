{
 "cells": [
  {
   "cell_type": "markdown",
   "metadata": {},
   "source": [
    "### Testing video analysis"
   ]
  },
  {
   "cell_type": "code",
   "execution_count": 122,
   "metadata": {},
   "outputs": [],
   "source": [
    "import datetime\n",
    "import time\n",
    "import os\n",
    "\n",
    "import ffmpeg\n",
    "import pandas as pd\n",
    "import numpy as np\n",
    "\n",
    "import matplotlib\n",
    "import matplotlib.pyplot as plt\n",
    "from matplotlib.patches import Rectangle\n",
    "from matplotlib.collections import PatchCollection\n",
    "\n",
    "import trace_analysis\n",
    "import loader"
   ]
  },
  {
   "cell_type": "markdown",
   "metadata": {},
   "source": [
    "Pipeline\n",
    "\n",
    "1. get video start and end times\n",
    "\n",
    "1. get trial times\n",
    "\n",
    "1. plot video times vs trial times (rag plots)\n",
    "\n",
    "1. pull video frames for 1 trial\n"
   ]
  },
  {
   "cell_type": "code",
   "execution_count": 103,
   "metadata": {},
   "outputs": [
    {
     "name": "stdout",
     "output_type": "stream",
     "text": [
      "18\n",
      "1690415325\n",
      "2023-07-26 19:48:45\n",
      "19\n",
      "1690415501\n",
      "2023-07-26 19:51:41\n",
      "69.795000\n"
     ]
    },
    {
     "data": {
      "text/plain": [
       "datetime.timedelta(seconds=69, microseconds=795000)"
      ]
     },
     "execution_count": 103,
     "metadata": {},
     "output_type": "execute_result"
    }
   ],
   "source": [
    "testid = 'Ring_19700101_0000_7260278537587707614.mp4'\n",
    "id = testid.strip('.mp4').split('_')[-1]\n",
    "print(len(id))\n",
    "while len(id) < 19:\n",
    "    id = id + '0'\n",
    "# first 32 bits represent seconds since epoch start\n",
    "starttime = int(id) >> 32\n",
    "print(starttime)\n",
    "print(datetime.datetime.fromtimestamp(starttime))\n",
    "\n",
    "test2 = 'Ring_19700101_0000_7260279293501951710.mp4'\n",
    "id = test2.strip('.mp4').split('_')[-1]\n",
    "print(len(id))\n",
    "# first 32 bits represent seconds since epoch start\n",
    "starttime = int(id) >> 32\n",
    "print(starttime)\n",
    "print(datetime.datetime.fromtimestamp(starttime))\n",
    "\n",
    "\n",
    "video_path = 'C:\\\\Users\\\\swind\\\\Documents\\\\lab_work\\\\Barth\\\\video_data\\\\OMV4 Dream psAcc48SAT24\\\\Ring_19700101_0000_7260278537587707614.mp4'\n",
    "metadata = ffmpeg.probe(video_path)\n",
    "duration = metadata['format']['duration']\n",
    "print(duration)\n",
    "datetime.timedelta(seconds=float(duration))"
   ]
  },
  {
   "cell_type": "markdown",
   "metadata": {},
   "source": [
    "#### Functions to get video start time and duration"
   ]
  },
  {
   "cell_type": "code",
   "execution_count": 104,
   "metadata": {},
   "outputs": [],
   "source": [
    "def starttime_from_filename(filename):\n",
    "# Extracts recording time of Ring videos from filename\n",
    "# Only works if Ring videos are named in this format: \n",
    "# Ring_xxxxxxxxx_xxxx_xxxxxxxxxxxxxxxxxxx.mp4\n",
    "    id = filename.strip('.mp4').split('_')[-1]\n",
    "    # Ring filenames drop trailing 0s \n",
    "    # (id needs to have exactly 19 digits)\n",
    "    while len(id) < 19:\n",
    "        id = id + '0'\n",
    "    # first 32 bits represent seconds since epoch start\n",
    "    starttime = int(id) >> 32\n",
    "    return datetime.datetime.fromtimestamp(starttime)\n",
    "\n",
    "def duration_from_metadata(filepath):\n",
    "# Extracts duration of videos from stored metadata\n",
    "# requires full path, not just file name\n",
    "    metadata = ffmpeg.probe(filepath)\n",
    "    duration = metadata['format']['duration']\n",
    "    duration = float(duration)\n",
    "    return datetime.timedelta(seconds=duration)"
   ]
  },
  {
   "cell_type": "markdown",
   "metadata": {},
   "source": [
    "#### Load video data"
   ]
  },
  {
   "cell_type": "code",
   "execution_count": 105,
   "metadata": {},
   "outputs": [],
   "source": [
    "video_path = 'C:\\\\Users\\\\swind\\\\Documents\\\\lab_work\\\\Barth\\\\video_data\\\\OMV4 Dream psAcc48SAT24'\n",
    "\n",
    "vid_times = []\n",
    "ct = 0\n",
    "for vid in os.listdir(video_path):\n",
    "    if os.path.isfile(video_path + '\\\\' + vid):\n",
    "        vid_start = starttime_from_filename(vid)\n",
    "        # Fail if parsing issue\n",
    "        if vid_start < datetime.datetime(2022, 1, 1, 0, 0, 1):\n",
    "            print(f'Start time incorrectly parsed as {vid_start} from file {vid}')\n",
    "            exit(1)\n",
    "        vid_duration = duration_from_metadata(video_path + '\\\\' + vid)\n",
    "        vid_times.append((vid_start, vid_duration))\n",
    "\n",
    "vid_trials = pd.DataFrame(vid_times)\n",
    "vid_trials = vid_trials.rename(columns={0:\"start_time\", 1:\"duration\"})\n",
    "vid_trials = vid_trials.sort_values(\"start_time\")"
   ]
  },
  {
   "cell_type": "markdown",
   "metadata": {},
   "source": [
    "#### Load trial data"
   ]
  },
  {
   "cell_type": "code",
   "execution_count": 106,
   "metadata": {},
   "outputs": [
    {
     "name": "stdout",
     "output_type": "stream",
     "text": [
      "OMV4: no metadata\n"
     ]
    }
   ],
   "source": [
    "behavior_path = 'K:\\\\Ajit Ray\\\\Rachel Swindell\\\\ss-cre behavioral records\\\\OMV4 F psAcc48psSAT24 Dream'\n",
    "\n",
    "metadata = pd.DataFrame()\n",
    "metadata[\"Animal ID\"] = pd.Series()\n",
    "\n",
    "df = loader.make_animal_df(behavior_path, metadata, 'OMV4', '', 2)\n",
    "df[\"condition\"] = \"pseudo\"\n",
    "df[\"age\"] = 28\n",
    "df[\"sex\"] = 'F'\n",
    "df[\"strain\"] = 'sscre'\n",
    "\n",
    "stats = trace_analysis.calculate_statistics(df, 300, 100, 4*60, 0, 0, 0, False)\n",
    "animal_stats = stats[0]\n",
    "trial_starts = animal_stats.groupby(\"trial no\").first()"
   ]
  },
  {
   "cell_type": "code",
   "execution_count": 153,
   "metadata": {},
   "outputs": [
    {
     "data": {
      "text/html": [
       "<div>\n",
       "<style scoped>\n",
       "    .dataframe tbody tr th:only-of-type {\n",
       "        vertical-align: middle;\n",
       "    }\n",
       "\n",
       "    .dataframe tbody tr th {\n",
       "        vertical-align: top;\n",
       "    }\n",
       "\n",
       "    .dataframe thead th {\n",
       "        text-align: right;\n",
       "    }\n",
       "</style>\n",
       "<table border=\"1\" class=\"dataframe\">\n",
       "  <thead>\n",
       "    <tr style=\"text-align: right;\">\n",
       "      <th></th>\n",
       "      <th>condition</th>\n",
       "      <th>animal</th>\n",
       "      <th>delta</th>\n",
       "      <th>delivery delta</th>\n",
       "      <th>trial type</th>\n",
       "      <th>trial time</th>\n",
       "      <th>timestamp</th>\n",
       "      <th>lick</th>\n",
       "      <th>poke</th>\n",
       "      <th>age</th>\n",
       "      <th>sex</th>\n",
       "      <th>strain</th>\n",
       "      <th>acc</th>\n",
       "      <th>Time (hr)</th>\n",
       "      <th>Time (ms)</th>\n",
       "    </tr>\n",
       "    <tr>\n",
       "      <th>trial no</th>\n",
       "      <th></th>\n",
       "      <th></th>\n",
       "      <th></th>\n",
       "      <th></th>\n",
       "      <th></th>\n",
       "      <th></th>\n",
       "      <th></th>\n",
       "      <th></th>\n",
       "      <th></th>\n",
       "      <th></th>\n",
       "      <th></th>\n",
       "      <th></th>\n",
       "      <th></th>\n",
       "      <th></th>\n",
       "      <th></th>\n",
       "    </tr>\n",
       "  </thead>\n",
       "  <tbody>\n",
       "    <tr>\n",
       "      <th>1</th>\n",
       "      <td>pseudo</td>\n",
       "      <td>OMV4</td>\n",
       "      <td>-2 days +00:00:00</td>\n",
       "      <td>-1 days +23:59:59.400000</td>\n",
       "      <td>water</td>\n",
       "      <td>2023-07-25 12:00:00</td>\n",
       "      <td>2023-07-25 12:39:29.950000128</td>\n",
       "      <td>0.0</td>\n",
       "      <td>6.666667</td>\n",
       "      <td>28</td>\n",
       "      <td>F</td>\n",
       "      <td>sscre</td>\n",
       "      <td>2 days</td>\n",
       "      <td>-48.0</td>\n",
       "      <td>-600.0</td>\n",
       "    </tr>\n",
       "    <tr>\n",
       "      <th>2</th>\n",
       "      <td>pseudo</td>\n",
       "      <td>OMV4</td>\n",
       "      <td>-2 days +00:00:00</td>\n",
       "      <td>-1 days +23:59:59.500000</td>\n",
       "      <td>water</td>\n",
       "      <td>2023-07-25 12:00:00</td>\n",
       "      <td>2023-07-25 12:43:29.840000000</td>\n",
       "      <td>0.0</td>\n",
       "      <td>3.333333</td>\n",
       "      <td>28</td>\n",
       "      <td>F</td>\n",
       "      <td>sscre</td>\n",
       "      <td>2 days</td>\n",
       "      <td>-48.0</td>\n",
       "      <td>-500.0</td>\n",
       "    </tr>\n",
       "    <tr>\n",
       "      <th>3</th>\n",
       "      <td>pseudo</td>\n",
       "      <td>OMV4</td>\n",
       "      <td>-2 days +00:00:00</td>\n",
       "      <td>-1 days +23:59:59.600000</td>\n",
       "      <td>water</td>\n",
       "      <td>2023-07-25 12:00:00</td>\n",
       "      <td>2023-07-25 12:51:33.509999872</td>\n",
       "      <td>0.0</td>\n",
       "      <td>3.333333</td>\n",
       "      <td>28</td>\n",
       "      <td>F</td>\n",
       "      <td>sscre</td>\n",
       "      <td>2 days</td>\n",
       "      <td>-48.0</td>\n",
       "      <td>-400.0</td>\n",
       "    </tr>\n",
       "    <tr>\n",
       "      <th>4</th>\n",
       "      <td>pseudo</td>\n",
       "      <td>OMV4</td>\n",
       "      <td>-2 days +00:00:00</td>\n",
       "      <td>-1 days +23:59:59.400000</td>\n",
       "      <td>blank</td>\n",
       "      <td>2023-07-25 12:00:00</td>\n",
       "      <td>2023-07-25 13:01:22.970000128</td>\n",
       "      <td>0.0</td>\n",
       "      <td>3.333333</td>\n",
       "      <td>28</td>\n",
       "      <td>F</td>\n",
       "      <td>sscre</td>\n",
       "      <td>2 days</td>\n",
       "      <td>-48.0</td>\n",
       "      <td>-600.0</td>\n",
       "    </tr>\n",
       "    <tr>\n",
       "      <th>5</th>\n",
       "      <td>pseudo</td>\n",
       "      <td>OMV4</td>\n",
       "      <td>-2 days +00:00:00</td>\n",
       "      <td>-1 days +23:59:59.500000</td>\n",
       "      <td>water</td>\n",
       "      <td>2023-07-25 12:00:00</td>\n",
       "      <td>2023-07-25 13:21:04.130000128</td>\n",
       "      <td>0.0</td>\n",
       "      <td>3.333333</td>\n",
       "      <td>28</td>\n",
       "      <td>F</td>\n",
       "      <td>sscre</td>\n",
       "      <td>2 days</td>\n",
       "      <td>-48.0</td>\n",
       "      <td>-500.0</td>\n",
       "    </tr>\n",
       "    <tr>\n",
       "      <th>...</th>\n",
       "      <td>...</td>\n",
       "      <td>...</td>\n",
       "      <td>...</td>\n",
       "      <td>...</td>\n",
       "      <td>...</td>\n",
       "      <td>...</td>\n",
       "      <td>...</td>\n",
       "      <td>...</td>\n",
       "      <td>...</td>\n",
       "      <td>...</td>\n",
       "      <td>...</td>\n",
       "      <td>...</td>\n",
       "      <td>...</td>\n",
       "      <td>...</td>\n",
       "      <td>...</td>\n",
       "    </tr>\n",
       "    <tr>\n",
       "      <th>4780</th>\n",
       "      <td>pseudo</td>\n",
       "      <td>OMV4</td>\n",
       "      <td>0 days 16:00:00</td>\n",
       "      <td>-1 days +23:59:59.200000</td>\n",
       "      <td>blank</td>\n",
       "      <td>2023-07-28 04:00:00</td>\n",
       "      <td>2023-07-28 07:05:58.880000000</td>\n",
       "      <td>0.0</td>\n",
       "      <td>3.333333</td>\n",
       "      <td>28</td>\n",
       "      <td>F</td>\n",
       "      <td>sscre</td>\n",
       "      <td>2 days</td>\n",
       "      <td>16.0</td>\n",
       "      <td>-800.0</td>\n",
       "    </tr>\n",
       "    <tr>\n",
       "      <th>4781</th>\n",
       "      <td>pseudo</td>\n",
       "      <td>OMV4</td>\n",
       "      <td>0 days 16:00:00</td>\n",
       "      <td>-1 days +23:59:59.300000</td>\n",
       "      <td>blank</td>\n",
       "      <td>2023-07-28 04:00:00</td>\n",
       "      <td>2023-07-28 07:06:02.910000128</td>\n",
       "      <td>0.0</td>\n",
       "      <td>3.333333</td>\n",
       "      <td>28</td>\n",
       "      <td>F</td>\n",
       "      <td>sscre</td>\n",
       "      <td>2 days</td>\n",
       "      <td>16.0</td>\n",
       "      <td>-700.0</td>\n",
       "    </tr>\n",
       "    <tr>\n",
       "      <th>4782</th>\n",
       "      <td>pseudo</td>\n",
       "      <td>OMV4</td>\n",
       "      <td>0 days 16:00:00</td>\n",
       "      <td>-1 days +23:59:59.600000</td>\n",
       "      <td>blank</td>\n",
       "      <td>2023-07-28 04:00:00</td>\n",
       "      <td>2023-07-28 07:13:59.190000128</td>\n",
       "      <td>0.0</td>\n",
       "      <td>3.333333</td>\n",
       "      <td>28</td>\n",
       "      <td>F</td>\n",
       "      <td>sscre</td>\n",
       "      <td>2 days</td>\n",
       "      <td>16.0</td>\n",
       "      <td>-400.0</td>\n",
       "    </tr>\n",
       "    <tr>\n",
       "      <th>4783</th>\n",
       "      <td>pseudo</td>\n",
       "      <td>OMV4</td>\n",
       "      <td>0 days 16:00:00</td>\n",
       "      <td>-1 days +23:59:59.200000</td>\n",
       "      <td>blank</td>\n",
       "      <td>2023-07-28 04:00:00</td>\n",
       "      <td>2023-07-28 07:14:01.940000000</td>\n",
       "      <td>0.0</td>\n",
       "      <td>3.333333</td>\n",
       "      <td>28</td>\n",
       "      <td>F</td>\n",
       "      <td>sscre</td>\n",
       "      <td>2 days</td>\n",
       "      <td>16.0</td>\n",
       "      <td>-800.0</td>\n",
       "    </tr>\n",
       "    <tr>\n",
       "      <th>4784</th>\n",
       "      <td>pseudo</td>\n",
       "      <td>OMV4</td>\n",
       "      <td>0 days 16:00:00</td>\n",
       "      <td>-1 days +23:59:59.200000</td>\n",
       "      <td>blank</td>\n",
       "      <td>2023-07-28 04:00:00</td>\n",
       "      <td>2023-07-28 07:40:29.140000000</td>\n",
       "      <td>0.0</td>\n",
       "      <td>3.333333</td>\n",
       "      <td>28</td>\n",
       "      <td>F</td>\n",
       "      <td>sscre</td>\n",
       "      <td>2 days</td>\n",
       "      <td>16.0</td>\n",
       "      <td>-800.0</td>\n",
       "    </tr>\n",
       "  </tbody>\n",
       "</table>\n",
       "<p>4784 rows × 15 columns</p>\n",
       "</div>"
      ],
      "text/plain": [
       "         condition animal             delta           delivery delta  \\\n",
       "trial no                                                               \n",
       "1           pseudo   OMV4 -2 days +00:00:00 -1 days +23:59:59.400000   \n",
       "2           pseudo   OMV4 -2 days +00:00:00 -1 days +23:59:59.500000   \n",
       "3           pseudo   OMV4 -2 days +00:00:00 -1 days +23:59:59.600000   \n",
       "4           pseudo   OMV4 -2 days +00:00:00 -1 days +23:59:59.400000   \n",
       "5           pseudo   OMV4 -2 days +00:00:00 -1 days +23:59:59.500000   \n",
       "...            ...    ...               ...                      ...   \n",
       "4780        pseudo   OMV4   0 days 16:00:00 -1 days +23:59:59.200000   \n",
       "4781        pseudo   OMV4   0 days 16:00:00 -1 days +23:59:59.300000   \n",
       "4782        pseudo   OMV4   0 days 16:00:00 -1 days +23:59:59.600000   \n",
       "4783        pseudo   OMV4   0 days 16:00:00 -1 days +23:59:59.200000   \n",
       "4784        pseudo   OMV4   0 days 16:00:00 -1 days +23:59:59.200000   \n",
       "\n",
       "         trial type          trial time                     timestamp  lick  \\\n",
       "trial no                                                                      \n",
       "1             water 2023-07-25 12:00:00 2023-07-25 12:39:29.950000128   0.0   \n",
       "2             water 2023-07-25 12:00:00 2023-07-25 12:43:29.840000000   0.0   \n",
       "3             water 2023-07-25 12:00:00 2023-07-25 12:51:33.509999872   0.0   \n",
       "4             blank 2023-07-25 12:00:00 2023-07-25 13:01:22.970000128   0.0   \n",
       "5             water 2023-07-25 12:00:00 2023-07-25 13:21:04.130000128   0.0   \n",
       "...             ...                 ...                           ...   ...   \n",
       "4780          blank 2023-07-28 04:00:00 2023-07-28 07:05:58.880000000   0.0   \n",
       "4781          blank 2023-07-28 04:00:00 2023-07-28 07:06:02.910000128   0.0   \n",
       "4782          blank 2023-07-28 04:00:00 2023-07-28 07:13:59.190000128   0.0   \n",
       "4783          blank 2023-07-28 04:00:00 2023-07-28 07:14:01.940000000   0.0   \n",
       "4784          blank 2023-07-28 04:00:00 2023-07-28 07:40:29.140000000   0.0   \n",
       "\n",
       "              poke  age sex strain    acc  Time (hr)  Time (ms)  \n",
       "trial no                                                         \n",
       "1         6.666667   28   F  sscre 2 days      -48.0     -600.0  \n",
       "2         3.333333   28   F  sscre 2 days      -48.0     -500.0  \n",
       "3         3.333333   28   F  sscre 2 days      -48.0     -400.0  \n",
       "4         3.333333   28   F  sscre 2 days      -48.0     -600.0  \n",
       "5         3.333333   28   F  sscre 2 days      -48.0     -500.0  \n",
       "...            ...  ...  ..    ...    ...        ...        ...  \n",
       "4780      3.333333   28   F  sscre 2 days       16.0     -800.0  \n",
       "4781      3.333333   28   F  sscre 2 days       16.0     -700.0  \n",
       "4782      3.333333   28   F  sscre 2 days       16.0     -400.0  \n",
       "4783      3.333333   28   F  sscre 2 days       16.0     -800.0  \n",
       "4784      3.333333   28   F  sscre 2 days       16.0     -800.0  \n",
       "\n",
       "[4784 rows x 15 columns]"
      ]
     },
     "execution_count": 153,
     "metadata": {},
     "output_type": "execute_result"
    }
   ],
   "source": [
    "trial_starts"
   ]
  },
  {
   "cell_type": "markdown",
   "metadata": {},
   "source": [
    "##### Rugplot comparing video and trial timing"
   ]
  },
  {
   "cell_type": "code",
   "execution_count": 107,
   "metadata": {},
   "outputs": [
    {
     "data": {
      "image/png": "[encoded data removed]",
      "text/plain": [
       "<Figure size 2000x100 with 1 Axes>"
      ]
     },
     "metadata": {},
     "output_type": "display_data"
    }
   ],
   "source": [
    "fig, ax = plt.subplots(1, 1, figsize=(20,1))\n",
    "ax.set_xlim([trial_starts.timestamp.min(), trial_starts.timestamp.max()])\n",
    "ax.set_ylim([0, 1])\n",
    "\n",
    "vid_points = [Rectangle((start, 0), duration, 0.5) for (start, duration) in vid_times]\n",
    "\n",
    "\n",
    "trial_length = datetime.timedelta(seconds=2)\n",
    "trial_points = [Rectangle((start, 0.5), trial_length, 0.5) for start in trial_starts.timestamp]\n",
    "\n",
    "for r in vid_points:\n",
    "    ax.add_patch(r)\n",
    "for r in trial_points:\n",
    "    ax.add_patch(r)\n"
   ]
  },
  {
   "cell_type": "markdown",
   "metadata": {},
   "source": [
    "#### Average number of trials per video"
   ]
  },
  {
   "cell_type": "code",
   "execution_count": 108,
   "metadata": {},
   "outputs": [],
   "source": [
    "# for vid in videos:\n",
    "#    threshold trials to start of video to start + duration of video\n",
    "#    count number of trials\n",
    "#    frequency/ratio: divide by duration of video\n",
    "#    compare across days\n",
    "vidstats = pd.DataFrame(columns=[\"time\", \"num\", \"freq\",\"duration\"])\n",
    "vidtrials = pd.DataFrame(columns=[\"vidstart\", \"vid_duration\", \"trial_start\"])\n",
    "for vid in vid_trials.iterrows():\n",
    "    trials = animal_stats[(animal_stats.timestamp >= vid[1].start_time) & (animal_stats.timestamp <= vid[1].start_time + vid[1].duration)]\n",
    "    count = trials[\"trial no\"].unique().size\n",
    "    t = vid[1].duration.seconds\n",
    "    freq = count/(t)\n",
    "    \n",
    "    vidstats.loc[len(vidstats.index)] = (vid[1].start_time, count, freq, t)"
   ]
  },
  {
   "cell_type": "code",
   "execution_count": 109,
   "metadata": {},
   "outputs": [
    {
     "data": {
      "text/plain": [
       "time        2023-07-27 10:41:35.985074432\n",
       "num                              8.164179\n",
       "freq                             0.098454\n",
       "duration                        57.293532\n",
       "dtype: object"
      ]
     },
     "execution_count": 109,
     "metadata": {},
     "output_type": "execute_result"
    }
   ],
   "source": [
    "vidstats.mean()"
   ]
  },
  {
   "cell_type": "code",
   "execution_count": 110,
   "metadata": {},
   "outputs": [
    {
     "data": {
      "image/png": "[encoded data removed]",
      "text/plain": [
       "<Figure size 640x480 with 3 Axes>"
      ]
     },
     "metadata": {},
     "output_type": "display_data"
    }
   ],
   "source": [
    "# distribution of length and number of trials per video\n",
    "\n",
    "fig, axs = plt.subplots(1, 3)\n",
    "axs[0].boxplot(vidstats.num)\n",
    "axs[0].set_xlabel('Trials per video')\n",
    "axs[0].set_ylabel('Trials')\n",
    "axs[1].boxplot(vidstats.duration)\n",
    "axs[1].set_xlabel('Video Length')\n",
    "axs[1].set_ylabel('Time (s)')\n",
    "axs[2].boxplot(vidstats.freq)\n",
    "axs[2].set_xlabel('Trial frequency')\n",
    "fig.tight_layout()"
   ]
  },
  {
   "cell_type": "code",
   "execution_count": 113,
   "metadata": {},
   "outputs": [
    {
     "data": {
      "text/plain": [
       "[<matplotlib.lines.Line2D at 0x1b6fd627dd0>]"
      ]
     },
     "execution_count": 113,
     "metadata": {},
     "output_type": "execute_result"
    },
    {
     "data": {
      "image/png": "[encoded data removed]",
      "text/plain": [
       "<Figure size 640x480 with 1 Axes>"
      ]
     },
     "metadata": {},
     "output_type": "display_data"
    }
   ],
   "source": [
    "# 4h rolling average of number of trials/video\n",
    "fig, axs = plt.subplots(1, 1)\n",
    "vidstats = vidstats.sort_values(\"time\")\n",
    "roll = vidstats.rolling(pd.to_timedelta(4, unit=\"H\"), on=\"time\", closed=\"left\").mean()\n",
    "axs.plot(roll.time, roll.num)"
   ]
  },
  {
   "cell_type": "markdown",
   "metadata": {},
   "source": [
    "### Inter bout interval"
   ]
  },
  {
   "cell_type": "code",
   "execution_count": 114,
   "metadata": {},
   "outputs": [
    {
     "data": {
      "text/plain": [
       "start_time    2023-07-27 10:41:35.985074432\n",
       "duration          0 days 00:00:57.748437810\n",
       "end_time      2023-07-27 10:40:38.236637184\n",
       "IBI                  0 days 00:13:50.115000\n",
       "dtype: object"
      ]
     },
     "execution_count": 114,
     "metadata": {},
     "output_type": "execute_result"
    }
   ],
   "source": [
    "#inter trial interval and inter bout interval\n",
    "vid_trials[\"end_time\"] = vid_trials[\"start_time\"] - vid_trials[\"duration\"]\n",
    "vid_trials[\"IBI\"] = vid_trials[\"start_time\"] - vid_trials[\"start_time\"].shift()\n",
    "vid_trials.mean()"
   ]
  },
  {
   "cell_type": "code",
   "execution_count": 132,
   "metadata": {},
   "outputs": [
    {
     "data": {
      "image/png": "[encoded data removed]",
      "text/plain": [
       "<Figure size 640x480 with 2 Axes>"
      ]
     },
     "metadata": {},
     "output_type": "display_data"
    }
   ],
   "source": [
    "IBI_mins = vid_trials[\"IBI\"].to_numpy(dtype='timedelta64[m]')[1:].astype(float)\n",
    "IBI_excludesleep = vid_trials[vid_trials[\"IBI\"] < pd.to_timedelta(20, unit=\"m\")][\"IBI\"].to_numpy(dtype='timedelta64[m]')[1:].astype(float)\n",
    "\n",
    "fig, axs = plt.subplots(1, 2)\n",
    "\n",
    "axs[0].hist(IBI_mins, bins=200)\n",
    "axs[0].set_xlabel('Inter bout interval')\n",
    "axs[0].set_ylabel('Time (m)')\n",
    "axs[1].hist(IBI_excludesleep, bins=20)\n",
    "axs[1].set_xlabel('Inter bout interval')\n",
    "axs[1].set_ylabel('Time (m)')\n",
    "\n",
    "fig.tight_layout()"
   ]
  },
  {
   "cell_type": "markdown",
   "metadata": {},
   "source": [
    "### Intrabout inter trial interval"
   ]
  },
  {
   "cell_type": "code",
   "execution_count": 156,
   "metadata": {},
   "outputs": [
    {
     "data": {
      "text/html": [
       "<div>\n",
       "<style scoped>\n",
       "    .dataframe tbody tr th:only-of-type {\n",
       "        vertical-align: middle;\n",
       "    }\n",
       "\n",
       "    .dataframe tbody tr th {\n",
       "        vertical-align: top;\n",
       "    }\n",
       "\n",
       "    .dataframe thead th {\n",
       "        text-align: right;\n",
       "    }\n",
       "</style>\n",
       "<table border=\"1\" class=\"dataframe\">\n",
       "  <thead>\n",
       "    <tr style=\"text-align: right;\">\n",
       "      <th></th>\n",
       "      <th>vid_start</th>\n",
       "      <th>vid_duration</th>\n",
       "      <th>trial_start</th>\n",
       "      <th>ITI</th>\n",
       "    </tr>\n",
       "  </thead>\n",
       "  <tbody>\n",
       "    <tr>\n",
       "      <th>1420</th>\n",
       "      <td>2023-07-26 15:09:34</td>\n",
       "      <td>0 days 00:00:28.931000</td>\n",
       "      <td>2023-07-26 15:09:55.430000128</td>\n",
       "      <td>NaT</td>\n",
       "    </tr>\n",
       "    <tr>\n",
       "      <th>1421</th>\n",
       "      <td>2023-07-26 15:13:01</td>\n",
       "      <td>0 days 00:00:41.800000</td>\n",
       "      <td>2023-07-26 15:13:18.140000000</td>\n",
       "      <td>NaT</td>\n",
       "    </tr>\n",
       "    <tr>\n",
       "      <th>1422</th>\n",
       "      <td>2023-07-26 15:13:01</td>\n",
       "      <td>0 days 00:00:41.800000</td>\n",
       "      <td>2023-07-26 15:13:22.380000000</td>\n",
       "      <td>0 days 00:00:04.240000</td>\n",
       "    </tr>\n",
       "    <tr>\n",
       "      <th>1423</th>\n",
       "      <td>2023-07-26 15:13:01</td>\n",
       "      <td>0 days 00:00:41.800000</td>\n",
       "      <td>2023-07-26 15:13:26.100000000</td>\n",
       "      <td>0 days 00:00:03.720000</td>\n",
       "    </tr>\n",
       "    <tr>\n",
       "      <th>1424</th>\n",
       "      <td>2023-07-26 15:13:01</td>\n",
       "      <td>0 days 00:00:41.800000</td>\n",
       "      <td>2023-07-26 15:13:39.200000000</td>\n",
       "      <td>0 days 00:00:13.100000</td>\n",
       "    </tr>\n",
       "    <tr>\n",
       "      <th>...</th>\n",
       "      <td>...</td>\n",
       "      <td>...</td>\n",
       "      <td>...</td>\n",
       "      <td>...</td>\n",
       "    </tr>\n",
       "    <tr>\n",
       "      <th>4780</th>\n",
       "      <td>2023-07-28 07:04:16</td>\n",
       "      <td>0 days 00:01:55.686000</td>\n",
       "      <td>2023-07-28 07:05:58.880000000</td>\n",
       "      <td>0 days 00:00:03.489999872</td>\n",
       "    </tr>\n",
       "    <tr>\n",
       "      <th>4781</th>\n",
       "      <td>2023-07-28 07:04:16</td>\n",
       "      <td>0 days 00:01:55.686000</td>\n",
       "      <td>2023-07-28 07:06:02.910000128</td>\n",
       "      <td>0 days 00:00:04.030000128</td>\n",
       "    </tr>\n",
       "    <tr>\n",
       "      <th>4782</th>\n",
       "      <td>2023-07-28 07:13:46</td>\n",
       "      <td>0 days 00:00:26.668000</td>\n",
       "      <td>2023-07-28 07:13:59.190000128</td>\n",
       "      <td>NaT</td>\n",
       "    </tr>\n",
       "    <tr>\n",
       "      <th>4783</th>\n",
       "      <td>2023-07-28 07:13:46</td>\n",
       "      <td>0 days 00:00:26.668000</td>\n",
       "      <td>2023-07-28 07:14:01.940000000</td>\n",
       "      <td>0 days 00:00:02.749999872</td>\n",
       "    </tr>\n",
       "    <tr>\n",
       "      <th>4784</th>\n",
       "      <td>2023-07-28 07:39:07</td>\n",
       "      <td>0 days 00:01:35.138000</td>\n",
       "      <td>2023-07-28 07:40:29.140000000</td>\n",
       "      <td>NaT</td>\n",
       "    </tr>\n",
       "  </tbody>\n",
       "</table>\n",
       "<p>1609 rows × 4 columns</p>\n",
       "</div>"
      ],
      "text/plain": [
       "               vid_start           vid_duration                   trial_start  \\\n",
       "1420 2023-07-26 15:09:34 0 days 00:00:28.931000 2023-07-26 15:09:55.430000128   \n",
       "1421 2023-07-26 15:13:01 0 days 00:00:41.800000 2023-07-26 15:13:18.140000000   \n",
       "1422 2023-07-26 15:13:01 0 days 00:00:41.800000 2023-07-26 15:13:22.380000000   \n",
       "1423 2023-07-26 15:13:01 0 days 00:00:41.800000 2023-07-26 15:13:26.100000000   \n",
       "1424 2023-07-26 15:13:01 0 days 00:00:41.800000 2023-07-26 15:13:39.200000000   \n",
       "...                  ...                    ...                           ...   \n",
       "4780 2023-07-28 07:04:16 0 days 00:01:55.686000 2023-07-28 07:05:58.880000000   \n",
       "4781 2023-07-28 07:04:16 0 days 00:01:55.686000 2023-07-28 07:06:02.910000128   \n",
       "4782 2023-07-28 07:13:46 0 days 00:00:26.668000 2023-07-28 07:13:59.190000128   \n",
       "4783 2023-07-28 07:13:46 0 days 00:00:26.668000 2023-07-28 07:14:01.940000000   \n",
       "4784 2023-07-28 07:39:07 0 days 00:01:35.138000 2023-07-28 07:40:29.140000000   \n",
       "\n",
       "                           ITI  \n",
       "1420                       NaT  \n",
       "1421                       NaT  \n",
       "1422    0 days 00:00:04.240000  \n",
       "1423    0 days 00:00:03.720000  \n",
       "1424    0 days 00:00:13.100000  \n",
       "...                        ...  \n",
       "4780 0 days 00:00:03.489999872  \n",
       "4781 0 days 00:00:04.030000128  \n",
       "4782                       NaT  \n",
       "4783 0 days 00:00:02.749999872  \n",
       "4784                       NaT  \n",
       "\n",
       "[1609 rows x 4 columns]"
      ]
     },
     "execution_count": 156,
     "metadata": {},
     "output_type": "execute_result"
    }
   ],
   "source": [
    "vidtrials = pd.DataFrame()\n",
    "\n",
    "for vid in vid_trials.iterrows():\n",
    "    temp = pd.DataFrame()\n",
    "    \n",
    "    trials = trial_starts[(trial_starts.timestamp >= vid[1].start_time) & (trial_starts.timestamp <= vid[1].start_time + vid[1].duration)]\n",
    "\n",
    "    temp[\"trial_start\"] = trials.timestamp\n",
    "    temp[\"vid_start\"] = vid[1].start_time\n",
    "    temp[\"vid_duration\"] = vid[1].duration\n",
    "    temp[\"ITI\"] = trials.timestamp - trials.timestamp.shift()\n",
    "\n",
    "    vidtrials = pd.concat([vidtrials, temp])\n",
    "\n",
    "vidtrials = vidtrials[[\"vid_start\", \"vid_duration\", \"trial_start\", \"ITI\"]]\n"
   ]
  },
  {
   "cell_type": "code",
   "execution_count": 180,
   "metadata": {},
   "outputs": [
    {
     "data": {
      "image/png": "[encoded data removed]",
      "text/plain": [
       "<Figure size 640x480 with 2 Axes>"
      ]
     },
     "metadata": {},
     "output_type": "display_data"
    }
   ],
   "source": [
    "ITI_s = vidtrials[\"ITI\"].dropna().to_numpy(dtype='timedelta64[ms]').astype(float)\n",
    "ITI_short = vidtrials[vidtrials[\"ITI\"] < pd.to_timedelta(6, unit=\"s\")][\"ITI\"].to_numpy(dtype='timedelta64[ms]').astype(float)\n",
    "fig, axs = plt.subplots(1, 2)\n",
    "\n",
    "axs[0].hist(ITI_s, bins=100)\n",
    "axs[0].set_xlabel('Inter trial interval')\n",
    "axs[0].set_ylabel('Time (s)')\n",
    "axs[1].hist(ITI_short, bins=20)\n",
    "axs[1].set_xlabel('Inter trial interval')\n",
    "axs[1].set_ylabel('Time (s)')\n",
    "\n",
    "fig.tight_layout()"
   ]
  }
 ],
 "metadata": {
  "kernelspec": {
   "display_name": "behavior",
   "language": "python",
   "name": "python3"
  },
  "language_info": {
   "codemirror_mode": {
    "name": "ipython",
    "version": 3
   },
   "file_extension": ".py",
   "mimetype": "text/x-python",
   "name": "python",
   "nbconvert_exporter": "python",
   "pygments_lexer": "ipython3",
   "version": "3.11.3"
  },
  "orig_nbformat": 4
 },
 "nbformat": 4,
 "nbformat_minor": 2
}
